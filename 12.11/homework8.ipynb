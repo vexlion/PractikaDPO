{
 "cells": [
  {
   "cell_type": "markdown",
   "metadata": {},
   "source": [
    "## ЗАДАНИЕ 8\n",
    "# Выгрузить CSV: http://earthquake.usgs.gov/earthquakes/feed/v1.0/summary/4.5_month.csv и посчитать кол-во строк в ней"
   ]
  },
  {
   "cell_type": "code",
   "execution_count": 4,
   "metadata": {},
   "outputs": [
    {
     "name": "stdout",
     "output_type": "stream",
     "text": [
      "Количество строк в CSV: 393\n"
     ]
    }
   ],
   "source": [
    "import requests\n",
    "from urllib.request import urlopen\n",
    "from bs4 import BeautifulSoup\n",
    "import csv\n",
    "\n",
    "response = requests.get(\"http://earthquake.usgs.gov/earthquakes/feed/v1.0/summary/4.5_month.csv\")\n",
    "\n",
    "if response.status_code == 200:\n",
    "    csv_data = response.text.splitlines()\n",
    "    \n",
    "    num_rows = len(csv_data) - 1  # Вычитаем 1 для заголовка\n",
    "    print(f'Количество строк в CSV: {num_rows}')\n",
    "else:\n",
    "    print('Ошибка при загрузке файла')"
   ]
  }
 ],
 "metadata": {
  "kernelspec": {
   "display_name": "Python 3",
   "language": "python",
   "name": "python3"
  },
  "language_info": {
   "codemirror_mode": {
    "name": "ipython",
    "version": 3
   },
   "file_extension": ".py",
   "mimetype": "text/x-python",
   "name": "python",
   "nbconvert_exporter": "python",
   "pygments_lexer": "ipython3",
   "version": "3.11.5"
  }
 },
 "nbformat": 4,
 "nbformat_minor": 2
}
