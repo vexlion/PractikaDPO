{
 "cells": [
  {
   "cell_type": "markdown",
   "metadata": {},
   "source": [
    "# ЗАДАНИЕ 1\n",
    "## Написать скрипт, который будет показывать найдена ли указанная в скрипте веб-страница на сервере.\n",
    "\n",
    "Импортиуем необходимые библиотеки"
   ]
  },
  {
   "cell_type": "code",
   "execution_count": 33,
   "metadata": {},
   "outputs": [],
   "source": [
    "from urllib.request import urlopen\n",
    "from urllib.error import HTTPError, URLError"
   ]
  },
  {
   "cell_type": "markdown",
   "metadata": {},
   "source": [
    "Определяем функцию для проверки, существуют ли страницы"
   ]
  },
  {
   "cell_type": "code",
   "execution_count": 34,
   "metadata": {},
   "outputs": [],
   "source": [
    "def check_webpage_existence(url):\n",
    "    try:\n",
    "        response = urlopen(url)\n",
    "        print(f\"Страница {url} найдена.\")\n",
    "    except HTTPError as e:\n",
    "        print(f\"Страница {url} не найдена.\")\n",
    "    except URLError as e:\n",
    "        print(f\"Страница {url} не найдена.\")"
   ]
  },
  {
   "cell_type": "markdown",
   "metadata": {},
   "source": [
    "Проверяем существование"
   ]
  },
  {
   "cell_type": "code",
   "execution_count": 37,
   "metadata": {},
   "outputs": [
    {
     "name": "stdout",
     "output_type": "stream",
     "text": [
      "Страница https://llllllll.com не найдена.\n",
      "Страница https://github.com/vexlion/PractikaDPO найдена.\n"
     ]
    }
   ],
   "source": [
    "url1 = \"https://llllllll.com\"\n",
    "url2 = \"https://github.com/vexlion/PractikaDPO\"\n",
    "check_webpage_existence(url1)\n",
    "check_webpage_existence(url2)"
   ]
  }
 ],
 "metadata": {
  "kernelspec": {
   "display_name": "Python 3",
   "language": "python",
   "name": "python3"
  },
  "language_info": {
   "codemirror_mode": {
    "name": "ipython",
    "version": 3
   },
   "file_extension": ".py",
   "mimetype": "text/x-python",
   "name": "python",
   "nbconvert_exporter": "python",
   "pygments_lexer": "ipython3",
   "version": "3.11.5"
  }
 },
 "nbformat": 4,
 "nbformat_minor": 2
}
