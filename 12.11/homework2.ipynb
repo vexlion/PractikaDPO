{
 "cells": [
  {
   "cell_type": "markdown",
   "metadata": {},
   "source": [
    "# Задание 2\n",
    "## Проверить есть ли у сайта SSL сертификат с использованием модуля requests"
   ]
  },
  {
   "cell_type": "code",
   "execution_count": 27,
   "metadata": {},
   "outputs": [
    {
     "name": "stdout",
     "output_type": "stream",
     "text": [
      "Ошибка при подключении: HTTPSConnectionPool(host='llllllll.com', port=443): Max retries exceeded with url: / (Caused by ConnectTimeoutError(<urllib3.connection.HTTPSConnection object at 0x000001958D16C050>, 'Connection to llllllll.com timed out. (connect timeout=None)'))\n",
      "SSL сертификат у сайта https://github.com/vexlion/PractikaDPO есть.\n",
      "Сайт https://www.example.com/search?q=python&lang=en доступен, но статус 404\n",
      "SSL сертификат SSL сертификат у сайта https://self-signed.badssl.com/ отсутствует или неудовлетворителен.\n"
     ]
    }
   ],
   "source": [
    "import requests\n",
    "\n",
    "def verification_ssl(url):\n",
    "    try:\n",
    "        response = requests.get(url)\n",
    "        if response.status_code == 200:\n",
    "            print (f\"SSL сертификат у сайта {url} есть.\")\n",
    "        else:\n",
    "            print(f\"Сайт {url} доступен, но статус\", response.status_code) \n",
    "    except requests.exceptions.SSLError:\n",
    "        print(f\"SSL сертификат SSL сертификат у сайта {url} отсутствует или неудовлетворителен.\")\n",
    "    except requests.exceptions.RequestException as e:\n",
    "        print (f\"Ошибка при подключении: {e}\")\n",
    "\n",
    "url1 = \"https://llllllll.com\"\n",
    "url2 = \"https://github.com/vexlion/PractikaDPO\"\n",
    "url3 = \"https://www.example.com/search?q=python&lang=en\"\n",
    "url4 = \"https://self-signed.badssl.com/\"\n",
    "\n",
    "verification_ssl(url1)\n",
    "verification_ssl(url2)\n",
    "verification_ssl(url3)\n",
    "verification_ssl(url4)"
   ]
  }
 ],
 "metadata": {
  "kernelspec": {
   "display_name": "Python 3",
   "language": "python",
   "name": "python3"
  },
  "language_info": {
   "codemirror_mode": {
    "name": "ipython",
    "version": 3
   },
   "file_extension": ".py",
   "mimetype": "text/x-python",
   "name": "python",
   "nbconvert_exporter": "python",
   "pygments_lexer": "ipython3",
   "version": "3.11.5"
  }
 },
 "nbformat": 4,
 "nbformat_minor": 2
}
