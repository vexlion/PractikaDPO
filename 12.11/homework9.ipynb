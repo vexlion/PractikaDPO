{
 "cells": [
  {
   "cell_type": "markdown",
   "metadata": {},
   "source": [
    "## ЗАДАНИЕ 9\n",
    "# написать программу, которая будет скрейпить данные из imdb. Рекомендуемые библиотеки: BeautifulSoup, requests и random. Программа должна выполнять следующий функционал:\n",
    "# a. При запуске программа должна подключаться к странице https://www.imdb.com/chart/top;\n",
    "# b. Собирать список фильмов и их описание\n",
    "# c. Выводить 10 случайных фильмов"
   ]
  },
  {
   "cell_type": "markdown",
   "metadata": {},
   "source": [
    "Импортируем необходимые библиотеки"
   ]
  },
  {
   "cell_type": "code",
   "execution_count": 94,
   "metadata": {},
   "outputs": [],
   "source": [
    "import requests\n",
    "from bs4 import BeautifulSoup\n",
    "import random\n",
    "from urllib.request import urlopen\n"
   ]
  },
  {
   "attachments": {
    "2ip.PNG": {
     "image/png": "[encoded data removed]"
    }
   },
   "cell_type": "markdown",
   "metadata": {},
   "source": [
    "Переходим на сайт 2ip(например) и во вкладке \"Информация от вашего браузера\" копируем наш \"\"user-agent\" . Без него не получится выгрузить сайт.\n",
    "![2ip.PNG](attachment:2ip.PNG)"
   ]
  },
  {
   "cell_type": "markdown",
   "metadata": {},
   "source": [
    "Получаем список названий фильмов, преобразуем в массив и берём из него рандомно 10 фильмов."
   ]
  },
  {
   "cell_type": "code",
   "execution_count": 95,
   "metadata": {},
   "outputs": [],
   "source": [
    "headers = {\"user-agent\":\"Mozilla/5.0 (Windows NT 10.0; Win64; x64) AppleWebKit/537.36 (KHTML, like Gecko) Chrome/128.0.0.0 Safari/537.36 OPR/114.0.0.0 (Edition Yx GX 03)\"}\n",
    "response = requests.get(\"https://www.imdb.com/chart/top\", headers=headers)\n",
    "\n",
    "soup = BeautifulSoup(response.text, 'html.parser')\n",
    "\n",
    "all_headers = soup.find_all('h3', class_=\"ipc-title__text\")\n",
    "all_headers = all_headers[1:-1]\n",
    "top_headers = []\n",
    "for header in all_headers:\n",
    "    top_headers.append(header.get_text())\n",
    "random_movies = random.sample(top_headers, 10)\n"
   ]
  },
  {
   "cell_type": "markdown",
   "metadata": {},
   "source": [
    "Далее получаем с сайта массив ссылок для каждого фильма"
   ]
  },
  {
   "cell_type": "code",
   "execution_count": null,
   "metadata": {},
   "outputs": [],
   "source": [
    "all_links = soup.find_all('a', class_=\"ipc-title-link-wrapper\")\n",
    "link_list = [link.get('href') for link in all_links \n",
    "             if link.get('href') is not None]\n",
    "top_links = []\n",
    "for link in link_list:\n",
    "    top_links.append(link)"
   ]
  },
  {
   "cell_type": "markdown",
   "metadata": {},
   "source": [
    "1) Далее в цикле проходимся по массиву с рандомными фильмами, узнаем под каким номером тот или иной фильм и находим соотвветствующую ему ссылку.\n",
    "2) Потом программа выгружает страницу каждого из фильмов и берёт описание.\n",
    "3) После, убираем нумерацию фильмов как на сайте (для красоты)\n",
    "4) И наконец выводим фильмы с их описанием"
   ]
  },
  {
   "cell_type": "code",
   "execution_count": 97,
   "metadata": {},
   "outputs": [
    {
     "name": "stdout",
     "output_type": "stream",
     "text": [
      "СПИСОК ФИЛЬМОВ\n",
      "Фильм 1:  Властелин колец: Братство кольца \n",
      "Описание: A meek Hobbit from the Shire and eight companions set out on a journey to destroy the powerful One Ring and save Middle-earth from the Dark Lord Sauron.A meek Hobbit from the Shire and eight companions set out on a journey to destroy the powerful One Ring and save Middle-earth from the Dark Lord Sauron.A meek Hobbit from the Shire and eight companions set out on a journey to destroy the powerful One Ring and save Middle-earth from the Dark Lord Sauron.\n",
      "\n",
      "Фильм 2:  Криминальное чтиво \n",
      "Описание: The lives of two mob hitmen, a boxer, a gangster and his wife, and a pair of diner bandits intertwine in four tales of violence and redemption.The lives of two mob hitmen, a boxer, a gangster and his wife, and a pair of diner bandits intertwine in four tales of violence and redemption.The lives of two mob hitmen, a boxer, a gangster and his wife, and a pair of diner bandits intertwine in four tales of violence and redemption.\n",
      "\n",
      "Фильм 3:  Хороший, плохой, злой \n",
      "Описание: A bounty hunting scam joins two men in an uneasy alliance against a third in a race to find a fortune in gold buried in a remote cemetery.A bounty hunting scam joins two men in an uneasy alliance against a third in a race to find a fortune in gold buried in a remote cemetery.A bounty hunting scam joins two men in an uneasy alliance against a third in a race to find a fortune in gold buried in a remote cemetery.\n",
      "\n",
      "Фильм 4:  Форрест Гамп \n",
      "Описание: The history of the United States from the 1950s to the '70s unfolds from the perspective of an Alabama man with an IQ of 75, who yearns to be reunited with his childhood sweetheart.The history of the United States from the 1950s to the '70s unfolds from the perspective of an Alabama man with an IQ of 75, who yearns to be reunited with his childhood sweetheart.The history of the United States from the 1950s to the '70s unfolds from the perspective of an Alabama man with an IQ of 75, who yearns to be reunited with his childhood sweetheart.\n",
      "\n",
      "Фильм 5:  Начало \n",
      "Описание: A thief who steals corporate secrets through the use of dream-sharing technology is given the inverse task of planting an idea into the mind of a C.E.O., but his tragic past may doom the pro... Read allA thief who steals corporate secrets through the use of dream-sharing technology is given the inverse task of planting an idea into the mind of a C.E.O., but his tragic past may doom the project and his team to disaster.A thief who steals corporate secrets through the use of dream-sharing technology is given the inverse task of planting an idea into the mind of a C.E.O., but his tragic past may doom the project and his team to disaster.\n",
      "\n",
      "Фильм 6:  Молчание ягнят \n",
      "Описание: A young F.B.I. cadet must receive the help of an incarcerated and manipulative cannibal killer to help catch another serial killer, a madman who skins his victims.A young F.B.I. cadet must receive the help of an incarcerated and manipulative cannibal killer to help catch another serial killer, a madman who skins his victims.A young F.B.I. cadet must receive the help of an incarcerated and manipulative cannibal killer to help catch another serial killer, a madman who skins his victims.\n",
      "\n",
      "Фильм 7:  Пролетая над гнездом кукушки \n",
      "Описание: In the Fall of 1963, a Korean War veteran and criminal pleads insanity and is admitted to a mental institution, where he rallies up the scared patients against the tyrannical nurse.In the Fall of 1963, a Korean War veteran and criminal pleads insanity and is admitted to a mental institution, where he rallies up the scared patients against the tyrannical nurse.In the Fall of 1963, a Korean War veteran and criminal pleads insanity and is admitted to a mental institution, where he rallies up the scared patients against the tyrannical nurse.\n",
      "\n",
      "Фильм 8:  Город Бога \n",
      "Описание: In the slums of Rio, two kids' paths diverge as one struggles to become a photographer and the other a kingpin.In the slums of Rio, two kids' paths diverge as one struggles to become a photographer and the other a kingpin.In the slums of Rio, two kids' paths diverge as one struggles to become a photographer and the other a kingpin.\n",
      "\n",
      "Фильм 9:  Властелин колец: Возвращение короля \n",
      "Описание: Gandalf and Aragorn lead the World of Men against Sauron's army to draw his gaze from Frodo and Sam as they approach Mount Doom with the One Ring.Gandalf and Aragorn lead the World of Men against Sauron's army to draw his gaze from Frodo and Sam as they approach Mount Doom with the One Ring.Gandalf and Aragorn lead the World of Men against Sauron's army to draw his gaze from Frodo and Sam as they approach Mount Doom with the One Ring.\n",
      "\n",
      "Фильм 10:  Эта замечательная жизнь \n",
      "Описание: An angel is sent from Heaven to help a desperately frustrated businessman by showing him what life would have been like if he had never existed.An angel is sent from Heaven to help a desperately frustrated businessman by showing him what life would have been like if he had never existed.An angel is sent from Heaven to help a desperately frustrated businessman by showing him what life would have been like if he had never existed.\n",
      "\n"
     ]
    }
   ],
   "source": [
    "print(\"СПИСОК ФИЛЬМОВ\")\n",
    "\n",
    "for i in range(len(random_movies)):\n",
    "    url = ''\n",
    "    numbers = ''\n",
    "    count = 0\n",
    "    for j in random_movies[i]:\n",
    "        if j != '.':\n",
    "            count+=1\n",
    "            numbers += j\n",
    "        else:\n",
    "            count+=1\n",
    "            break\n",
    "    \n",
    "    url = 'https://www.imdb.com' + top_links[int(numbers)-1]\n",
    "    response = requests.get(url, headers=headers)\n",
    "    soup = BeautifulSoup(response.text, 'html.parser')\n",
    "    description = soup.find_all('p', class_=\"sc-3ac15c8d-3 bMUzwm\")\n",
    "    for des in description:\n",
    "        random_movie = random_movies[i]\n",
    "        random_movie = random_movie[int(count):]\n",
    "\n",
    "        print(f'Фильм {i+1}:', random_movie, '\\nОписание:', f'{des.get_text()}\\n')\n",
    "    url = ''\n",
    "    numbers = ''"
   ]
  }
 ],
 "metadata": {
  "kernelspec": {
   "display_name": "Python 3",
   "language": "python",
   "name": "python3"
  },
  "language_info": {
   "codemirror_mode": {
    "name": "ipython",
    "version": 3
   },
   "file_extension": ".py",
   "mimetype": "text/x-python",
   "name": "python",
   "nbconvert_exporter": "python",
   "pygments_lexer": "ipython3",
   "version": "3.11.5"
  }
 },
 "nbformat": 4,
 "nbformat_minor": 2
}
