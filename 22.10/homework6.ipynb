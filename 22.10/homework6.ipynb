{
 "cells": [
  {
   "cell_type": "code",
   "execution_count": 1,
   "metadata": {},
   "outputs": [],
   "source": [
    "import numpy as np\n",
    "import matplotlib.pyplot as plt\n",
    "\n",
    "\n",
    "def step():\n",
    "    import random\n",
    "    return 1. if random.random() > .5 else -1.\n",
    "\n",
    "\n",
    "def walk(n):\n",
    "    x = np.zeros(n)\n",
    "    dx = 1. / n\n",
    "    for i in range(n - 1):\n",
    "        x_new = x[i] + dx * step()\n",
    "        if x_new > 5e-3:\n",
    "            x[i + 1] = 0.\n",
    "        else:\n",
    "            x[i + 1] = x_new\n",
    "    return x\n",
    "\n",
    "\n",
    "n = 100000\n",
    "x = walk(n)"
   ]
  },
  {
   "cell_type": "code",
   "execution_count": 2,
   "metadata": {},
   "outputs": [
    {
     "name": "stdout",
     "output_type": "stream",
     "text": [
      "Collecting line_profiler\n",
      "  Downloading line_profiler-4.1.3-cp311-cp311-win_amd64.whl.metadata (35 kB)\n",
      "Downloading line_profiler-4.1.3-cp311-cp311-win_amd64.whl (126 kB)\n",
      "Installing collected packages: line_profiler\n",
      "Successfully installed line_profiler-4.1.3\n"
     ]
    }
   ],
   "source": [
    "!pip install line_profiler"
   ]
  },
  {
   "cell_type": "code",
   "execution_count": 3,
   "metadata": {},
   "outputs": [],
   "source": [
    "%load_ext line_profiler"
   ]
  },
  {
   "cell_type": "code",
   "execution_count": 4,
   "metadata": {},
   "outputs": [
    {
     "name": "stdout",
     "output_type": "stream",
     "text": [
      "Timer unit: 1e-07 s"
     ]
    }
   ],
   "source": [
    "%lprun"
   ]
  },
  {
   "cell_type": "code",
   "execution_count": 5,
   "metadata": {},
   "outputs": [
    {
     "name": "stdout",
     "output_type": "stream",
     "text": [
      "Timer unit: 1e-07 s\n",
      "\n",
      "Total time: 0.016441 s\n",
      "File: C:\\Users\\user\\AppData\\Local\\Temp\\ipykernel_22312\\20568004.py\n",
      "Function: walk at line 10\n",
      "\n",
      "Line #      Hits         Time  Per Hit   % Time  Line Contents\n",
      "==============================================================\n",
      "    10                                           def walk(n):\n",
      "    11         1        232.0    232.0      0.1      x = np.zeros(n)\n",
      "    12         1          7.0      7.0      0.0      dx = 1. / n\n",
      "    13     10000      19299.0      1.9     11.7      for i in range(n - 1):\n",
      "    14      9999      98501.0      9.9     59.9          x_new = x[i] + dx * step()\n",
      "    15      9999      20637.0      2.1     12.6          if x_new > 5e-3:\n",
      "    16         3         17.0      5.7      0.0              x[i + 1] = 0.\n",
      "    17                                                   else:\n",
      "    18      9996      25715.0      2.6     15.6              x[i + 1] = x_new\n",
      "    19         1          2.0      2.0      0.0      return x"
     ]
    }
   ],
   "source": [
    "%lprun -f walk walk(10000)"
   ]
  },
  {
   "cell_type": "code",
   "execution_count": 6,
   "metadata": {},
   "outputs": [
    {
     "name": "stdout",
     "output_type": "stream",
     "text": [
      "Timer unit: 1e-07 s\n",
      "\n",
      "Total time: 0.0051308 s\n",
      "File: C:\\Users\\user\\AppData\\Local\\Temp\\ipykernel_22312\\20568004.py\n",
      "Function: step at line 5\n",
      "\n",
      "Line #      Hits         Time  Per Hit   % Time  Line Contents\n",
      "==============================================================\n",
      "     5                                           def step():\n",
      "     6      9999      23574.0      2.4     45.9      import random\n",
      "     7      9999      27734.0      2.8     54.1      return 1. if random.random() > .5 else -1."
     ]
    }
   ],
   "source": [
    "%lprun -f step walk(10000)"
   ]
  },
  {
   "cell_type": "markdown",
   "metadata": {},
   "source": [
    "При каждом вызове функции импортируется модуль random, это является ошибкой, которая замедляет работу программы в два раза "
   ]
  }
 ],
 "metadata": {
  "kernelspec": {
   "display_name": "Python 3",
   "language": "python",
   "name": "python3"
  },
  "language_info": {
   "codemirror_mode": {
    "name": "ipython",
    "version": 3
   },
   "file_extension": ".py",
   "mimetype": "text/x-python",
   "name": "python",
   "nbconvert_exporter": "python",
   "pygments_lexer": "ipython3",
   "version": "3.11.5"
  }
 },
 "nbformat": 4,
 "nbformat_minor": 2
}
