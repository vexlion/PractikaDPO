{
 "cells": [
  {
   "cell_type": "markdown",
   "metadata": {},
   "source": [
    "# Упражнение 1"
   ]
  },
  {
   "cell_type": "markdown",
   "metadata": {},
   "source": [
    "## Подсчёт числа PI методом Монте-Карло"
   ]
  },
  {
   "cell_type": "markdown",
   "metadata": {},
   "source": [
    "Необходимые формулы:\n",
    "1) Площадь круга: $c = \\pi r^2$\n",
    "2) Площадь квадрата: $s = (2 r)^2$\n",
    "3) $c/s = (\\pi r^2)  / (4 r^2) =   \\pi / 4$  \n",
    "4) $ \\pi = 4 * c/s$ "
   ]
  },
  {
   "attachments": {
    "дротики-3.png": {
     "image/png": "[encoded data removed]"
    }
   },
   "cell_type": "markdown",
   "metadata": {},
   "source": [
    "Изображение для пояснения концепции:\n",
    "\n",
    "![дротики-3.png](attachment:дротики-3.png)"
   ]
  },
  {
   "cell_type": "markdown",
   "metadata": {},
   "source": [
    "Импорт используемых модуей:"
   ]
  },
  {
   "cell_type": "code",
   "execution_count": 13,
   "metadata": {},
   "outputs": [],
   "source": [
    "import random\n",
    "import matplotlib.pyplot as plt \n",
    "from ipywidgets import interact, widgets\n",
    "\n",
    "%matplotlib inline"
   ]
  },
  {
   "cell_type": "markdown",
   "metadata": {},
   "source": [
    "Механизм броска, построение графика результатов и оценка числа $\\pi$:"
   ]
  },
  {
   "cell_type": "code",
   "execution_count": 14,
   "metadata": {},
   "outputs": [],
   "source": [
    "import random\n",
    "import matplotlib.pyplot as plt \n",
    "from ipywidgets import interact, widgets\n",
    "\n",
    "%matplotlib inline\n",
    "def throw_darts(num_points):\n",
    "    points = []\n",
    "    hits = 0\n",
    "    for _ in range(num_points):\n",
    "        x, y = random.random(), random.random()\n",
    "        if x*x + y*y < 1.0:\n",
    "            hits += 1\n",
    "            points.append((x, y, True))\n",
    "        else:\n",
    "            points.append((x, y, False))\n",
    "    fraction = hits / num_points\n",
    "    pi = 4 * fraction\n",
    "    return pi, points\n",
    "def create_plot(points):\n",
    "    x, y, colors = zip(*points)\n",
    "    plt.scatter(x, y, c=colors)\n",
    "\n",
    "def experiment(num_points):\n",
    "    pi, points = throw_darts(num_points)\n",
    "    create_plot(points)\n",
    "    print(\"approximation:\", pi)"
   ]
  },
  {
   "cell_type": "markdown",
   "metadata": {},
   "source": [
    "Добавление виджета:"
   ]
  },
  {
   "cell_type": "code",
   "execution_count": 15,
   "metadata": {},
   "outputs": [
    {
     "data": {
      "application/vnd.jupyter.widget-view+json": {
       "model_id": "51860e3c84aa4d8e9a5e048c1e08de5d",
       "version_major": 2,
       "version_minor": 0
      },
      "text/plain": [
       "interactive(children=(IntSlider(value=1000, description='num_points', max=10000, min=100, step=100), Output())…"
      ]
     },
     "metadata": {},
     "output_type": "display_data"
    },
    {
     "data": {
      "text/plain": [
       "<function __main__.experiment(num_points)>"
      ]
     },
     "execution_count": 15,
     "metadata": {},
     "output_type": "execute_result"
    }
   ],
   "source": [
    "interact(experiment, num_points=widgets.IntSlider(min=100, max=10000, step=100,\n",
    "value=1000))"
   ]
  }
 ],
 "metadata": {
  "kernelspec": {
   "display_name": "Python 3",
   "language": "python",
   "name": "python3"
  },
  "language_info": {
   "codemirror_mode": {
    "name": "ipython",
    "version": 3
   },
   "file_extension": ".py",
   "mimetype": "text/x-python",
   "name": "python",
   "nbconvert_exporter": "python",
   "pygments_lexer": "ipython3",
   "version": "3.11.5"
  }
 },
 "nbformat": 4,
 "nbformat_minor": 2
}
